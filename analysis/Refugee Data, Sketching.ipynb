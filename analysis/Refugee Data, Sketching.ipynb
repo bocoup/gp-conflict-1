{
 "cells": [
  {
   "cell_type": "code",
   "execution_count": 1,
   "metadata": {
    "collapsed": false
   },
   "outputs": [],
   "source": [
    "import pandas as pd\n",
    "import seaborn as sns"
   ]
  },
  {
   "cell_type": "code",
   "execution_count": 3,
   "metadata": {
    "collapsed": false
   },
   "outputs": [],
   "source": [
    "rdata = pd.read_csv('../data/syrian-refugee-counts.csv')\n",
    "\n",
    "as1 = rdata.Refugees != '*'\n",
    "as2 = rdata.AsylumSeekers != '*'\n",
    "rdata = rdata[as1 & as2]\n",
    "\n",
    "rdata['Refugees'] = rdata['Refugees'].astype(float)\n",
    "rdata['AsylumSeekers'] = rdata['AsylumSeekers'].astype(float)\n",
    "\n",
    "# pad with 0s\n",
    "rdata = rdata.fillna(0)\n",
    "rdata['T'] = rdata['Refugees'] + rdata['AsylumSeekers']\n",
    "\n",
    "# only use subset\n",
    "rdata = rdata[['Destination', 'T', 'Year']]"
   ]
  },
  {
   "cell_type": "code",
   "execution_count": 4,
   "metadata": {
    "collapsed": false
   },
   "outputs": [
    {
     "data": {
      "text/html": [
       "<div>\n",
       "<table border=\"1\" class=\"dataframe\">\n",
       "  <thead>\n",
       "    <tr style=\"text-align: right;\">\n",
       "      <th></th>\n",
       "      <th>Destination</th>\n",
       "      <th>T</th>\n",
       "      <th>Year</th>\n",
       "    </tr>\n",
       "  </thead>\n",
       "  <tbody>\n",
       "    <tr>\n",
       "      <th>0</th>\n",
       "      <td>Lebanon</td>\n",
       "      <td>1200</td>\n",
       "      <td>1968</td>\n",
       "    </tr>\n",
       "    <tr>\n",
       "      <th>1</th>\n",
       "      <td>Lebanon</td>\n",
       "      <td>1200</td>\n",
       "      <td>1969</td>\n",
       "    </tr>\n",
       "    <tr>\n",
       "      <th>2</th>\n",
       "      <td>Lebanon</td>\n",
       "      <td>500</td>\n",
       "      <td>1979</td>\n",
       "    </tr>\n",
       "    <tr>\n",
       "      <th>3</th>\n",
       "      <td>Italy</td>\n",
       "      <td>2</td>\n",
       "      <td>1980</td>\n",
       "    </tr>\n",
       "    <tr>\n",
       "      <th>4</th>\n",
       "      <td>Lebanon</td>\n",
       "      <td>500</td>\n",
       "      <td>1980</td>\n",
       "    </tr>\n",
       "  </tbody>\n",
       "</table>\n",
       "</div>"
      ],
      "text/plain": [
       "  Destination     T  Year\n",
       "0     Lebanon  1200  1968\n",
       "1     Lebanon  1200  1969\n",
       "2     Lebanon   500  1979\n",
       "3       Italy     2  1980\n",
       "4     Lebanon   500  1980"
      ]
     },
     "execution_count": 4,
     "metadata": {},
     "output_type": "execute_result"
    }
   ],
   "source": [
    "d = set(rdata.Destination)\n",
    "y = set(rdata.Year)\n",
    "p = pd.MultiIndex.from_product([d,y], names=['destinations', 'year'])\n",
    "rdata.reindex(p)\n",
    "rdata.head(5)"
   ]
  },
  {
   "cell_type": "code",
   "execution_count": 7,
   "metadata": {
    "collapsed": false
   },
   "outputs": [],
   "source": [
    "pop = pd.read_csv('../data/demographics-wb.csv')\n",
    "pop = pop[['Country Name',  '2011', '2012', '2013','2014']]\n",
    "pop.columns = ['Destination', '2011_pop', '2012_pop', '2013_pop', '2014_pop']"
   ]
  },
  {
   "cell_type": "code",
   "execution_count": 8,
   "metadata": {
    "collapsed": false
   },
   "outputs": [
    {
     "data": {
      "text/html": [
       "<div>\n",
       "<table border=\"1\" class=\"dataframe\">\n",
       "  <thead>\n",
       "    <tr style=\"text-align: right;\">\n",
       "      <th></th>\n",
       "      <th>T</th>\n",
       "    </tr>\n",
       "    <tr>\n",
       "      <th>Destination</th>\n",
       "      <th></th>\n",
       "    </tr>\n",
       "  </thead>\n",
       "  <tbody>\n",
       "    <tr>\n",
       "      <th>Turkey</th>\n",
       "      <td>2393091</td>\n",
       "    </tr>\n",
       "    <tr>\n",
       "      <th>Lebanon</th>\n",
       "      <td>2134927</td>\n",
       "    </tr>\n",
       "    <tr>\n",
       "      <th>Jordan</th>\n",
       "      <td>829210</td>\n",
       "    </tr>\n",
       "    <tr>\n",
       "      <th>Iraq</th>\n",
       "      <td>528157</td>\n",
       "    </tr>\n",
       "    <tr>\n",
       "      <th>Egypt</th>\n",
       "      <td>283099</td>\n",
       "    </tr>\n",
       "    <tr>\n",
       "      <th>Germany</th>\n",
       "      <td>256993</td>\n",
       "    </tr>\n",
       "    <tr>\n",
       "      <th>Sweden</th>\n",
       "      <td>137136</td>\n",
       "    </tr>\n",
       "    <tr>\n",
       "      <th>Netherlands</th>\n",
       "      <td>51502</td>\n",
       "    </tr>\n",
       "    <tr>\n",
       "      <th>Libya</th>\n",
       "      <td>39428</td>\n",
       "    </tr>\n",
       "    <tr>\n",
       "      <th>United States</th>\n",
       "      <td>34247</td>\n",
       "    </tr>\n",
       "  </tbody>\n",
       "</table>\n",
       "</div>"
      ],
      "text/plain": [
       "                     T\n",
       "Destination           \n",
       "Turkey         2393091\n",
       "Lebanon        2134927\n",
       "Jordan          829210\n",
       "Iraq            528157\n",
       "Egypt           283099\n",
       "Germany         256993\n",
       "Sweden          137136\n",
       "Netherlands      51502\n",
       "Libya            39428\n",
       "United States    34247"
      ]
     },
     "execution_count": 8,
     "metadata": {},
     "output_type": "execute_result"
    }
   ],
   "source": [
    "# Find top10\n",
    "r = rdata\n",
    "r = r.drop(['Year'], 1)\n",
    "g = r.groupby('Destination').sum()\n",
    "top10 = g.sort('T', ascending=False).head(10)\n",
    "top10"
   ]
  },
  {
   "cell_type": "code",
   "execution_count": 19,
   "metadata": {
    "collapsed": false
   },
   "outputs": [],
   "source": [
    "rd = rdata[rdata['Year'] > 2010]\n",
    "d_pivot = pd.pivot_table(rd, columns=['Destination', 'Year'], values=['T'])\n",
    "df = d_pivot.unstack()\n",
    "# to output:\n",
    "df.reset_index().to_json(orient='records', path_or_buf='../app/src/data/stats.json')"
   ]
  },
  {
   "cell_type": "code",
   "execution_count": 20,
   "metadata": {
    "collapsed": false
   },
   "outputs": [
    {
     "data": {
      "text/html": [
       "<div>\n",
       "<table border=\"1\" class=\"dataframe\">\n",
       "  <thead>\n",
       "    <tr style=\"text-align: right;\">\n",
       "      <th></th>\n",
       "      <th>level_0</th>\n",
       "      <th>Destination</th>\n",
       "      <th>ref_2011</th>\n",
       "      <th>ref_2012</th>\n",
       "      <th>ref_2013</th>\n",
       "      <th>ref_2014</th>\n",
       "      <th>pop_2011</th>\n",
       "      <th>pop_2012</th>\n",
       "      <th>pop_2013</th>\n",
       "      <th>pop_2014</th>\n",
       "      <th>rate_avg</th>\n",
       "    </tr>\n",
       "  </thead>\n",
       "  <tbody>\n",
       "    <tr>\n",
       "      <th>122</th>\n",
       "      <td>T</td>\n",
       "      <td>Turkey</td>\n",
       "      <td>224.0</td>\n",
       "      <td>248666</td>\n",
       "      <td>585711</td>\n",
       "      <td>1558149.0</td>\n",
       "      <td>73058638</td>\n",
       "      <td>73997128</td>\n",
       "      <td>74932641</td>\n",
       "      <td>75837020</td>\n",
       "      <td>0.020546</td>\n",
       "    </tr>\n",
       "    <tr>\n",
       "      <th>67</th>\n",
       "      <td>T</td>\n",
       "      <td>Lebanon</td>\n",
       "      <td>245.5</td>\n",
       "      <td>127181</td>\n",
       "      <td>851615</td>\n",
       "      <td>573955.5</td>\n",
       "      <td>4382790</td>\n",
       "      <td>4424888</td>\n",
       "      <td>4467390</td>\n",
       "      <td>4510301</td>\n",
       "      <td>0.127254</td>\n",
       "    </tr>\n",
       "    <tr>\n",
       "      <th>55</th>\n",
       "      <td>T</td>\n",
       "      <td>Iraq</td>\n",
       "      <td>1714.0</td>\n",
       "      <td>64771</td>\n",
       "      <td>213973</td>\n",
       "      <td>235421.0</td>\n",
       "      <td>31760020</td>\n",
       "      <td>32578209</td>\n",
       "      <td>33417476</td>\n",
       "      <td>34278364</td>\n",
       "      <td>0.006868</td>\n",
       "    </tr>\n",
       "    <tr>\n",
       "      <th>41</th>\n",
       "      <td>T</td>\n",
       "      <td>Egypt</td>\n",
       "      <td>94.0</td>\n",
       "      <td>12836</td>\n",
       "      <td>131659</td>\n",
       "      <td>138381.0</td>\n",
       "      <td>79392466</td>\n",
       "      <td>80721874</td>\n",
       "      <td>82056378</td>\n",
       "      <td>83386739</td>\n",
       "      <td>0.001660</td>\n",
       "    </tr>\n",
       "    <tr>\n",
       "      <th>47</th>\n",
       "      <td>T</td>\n",
       "      <td>Germany</td>\n",
       "      <td>14868.0</td>\n",
       "      <td>24151</td>\n",
       "      <td>31819</td>\n",
       "      <td>70585.0</td>\n",
       "      <td>81797673</td>\n",
       "      <td>80425823</td>\n",
       "      <td>80645605</td>\n",
       "      <td>80889505</td>\n",
       "      <td>0.000873</td>\n",
       "    </tr>\n",
       "  </tbody>\n",
       "</table>\n",
       "</div>"
      ],
      "text/plain": [
       "    level_0 Destination  ref_2011  ref_2012  ref_2013   ref_2014  pop_2011  \\\n",
       "122       T      Turkey     224.0    248666    585711  1558149.0  73058638   \n",
       "67        T     Lebanon     245.5    127181    851615   573955.5   4382790   \n",
       "55        T        Iraq    1714.0     64771    213973   235421.0  31760020   \n",
       "41        T       Egypt      94.0     12836    131659   138381.0  79392466   \n",
       "47        T     Germany   14868.0     24151     31819    70585.0  81797673   \n",
       "\n",
       "     pop_2012  pop_2013  pop_2014  rate_avg  \n",
       "122  73997128  74932641  75837020  0.020546  \n",
       "67    4424888   4467390   4510301  0.127254  \n",
       "55   32578209  33417476  34278364  0.006868  \n",
       "41   80721874  82056378  83386739  0.001660  \n",
       "47   80425823  80645605  80889505  0.000873  "
      ]
     },
     "execution_count": 20,
     "metadata": {},
     "output_type": "execute_result"
    }
   ],
   "source": [
    "rfs = df.reset_index()\n",
    "rfs = rfs.merge(pop, on='Destination', how='left')\n",
    "rfs['rate_avg'] = rfs[2014] / rfs['2014_pop']\n",
    "rfs = rfs.sort(2014, ascending=0)\n",
    "rfs.columns = ['level_0', 'Destination', 'ref_2011', 'ref_2012', 'ref_2013', 'ref_2014', 'pop_2011',\n",
    "       'pop_2012', 'pop_2013', 'pop_2014', 'rate_avg']\n",
    "rfs.head()\n"
   ]
  },
  {
   "cell_type": "code",
   "execution_count": 21,
   "metadata": {
    "collapsed": false
   },
   "outputs": [],
   "source": [
    "rfs.sort('ref_2014', ascending=0).to_json(orient='records', path_or_buf='../app/src/data/stats.json')"
   ]
  },
  {
   "cell_type": "code",
   "execution_count": 28,
   "metadata": {
    "collapsed": false
   },
   "outputs": [
    {
     "data": {
      "text/plain": [
       "0.90692555423235355"
      ]
     },
     "execution_count": 28,
     "metadata": {},
     "output_type": "execute_result"
    }
   ],
   "source": [
    "rfs[:4]['ref_2014'].sum() / rfs['ref_2014'].sum()"
   ]
  },
  {
   "cell_type": "code",
   "execution_count": 31,
   "metadata": {
    "collapsed": false
   },
   "outputs": [
    {
     "data": {
      "text/plain": [
       "257172.0"
      ]
     },
     "execution_count": 31,
     "metadata": {},
     "output_type": "execute_result"
    }
   ],
   "source": [
    " rfs[4:]['ref_2014'].sum()"
   ]
  },
  {
   "cell_type": "code",
   "execution_count": 32,
   "metadata": {
    "collapsed": false
   },
   "outputs": [
    {
     "data": {
      "text/plain": [
       "5.14344"
      ]
     },
     "execution_count": 32,
     "metadata": {},
     "output_type": "execute_result"
    }
   ],
   "source": [
    "257172.0 / 50000"
   ]
  },
  {
   "cell_type": "code",
   "execution_count": null,
   "metadata": {
    "collapsed": true
   },
   "outputs": [],
   "source": []
  }
 ],
 "metadata": {
  "kernelspec": {
   "display_name": "Python 2",
   "language": "python",
   "name": "python2"
  },
  "language_info": {
   "codemirror_mode": {
    "name": "ipython",
    "version": 2
   },
   "file_extension": ".py",
   "mimetype": "text/x-python",
   "name": "python",
   "nbconvert_exporter": "python",
   "pygments_lexer": "ipython2",
   "version": "2.7.9"
  }
 },
 "nbformat": 4,
 "nbformat_minor": 0
}
