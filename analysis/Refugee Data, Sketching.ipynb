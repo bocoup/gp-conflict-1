{
 "cells": [
  {
   "cell_type": "code",
   "execution_count": 2,
   "metadata": {
    "collapsed": false
   },
   "outputs": [],
   "source": [
    "import pandas as pd\n",
    "import seaborn as sns"
   ]
  },
  {
   "cell_type": "code",
   "execution_count": 3,
   "metadata": {
    "collapsed": false
   },
   "outputs": [],
   "source": [
    "rdata = pd.read_csv('../data/s.csv')\n",
    "\n",
    "as1 = rdata.Refugees != '*'\n",
    "as2 = rdata.AsylumSeekers != '*'\n",
    "rdata = rdata[as1 & as2]\n",
    "\n",
    "rdata['Refugees'] = rdata['Refugees'].astype(float)\n",
    "rdata['AsylumSeekers'] = rdata['AsylumSeekers'].astype(float)\n",
    "\n",
    "# pad with 0s\n",
    "rdata = rdata.fillna(0)\n",
    "rdata['T'] = rdata['Refugees'] + rdata['AsylumSeekers']\n",
    "\n",
    "# only use subset\n",
    "rdata = rdata[['Destination', 'T', 'Year']]"
   ]
  },
  {
   "cell_type": "code",
   "execution_count": 8,
   "metadata": {
    "collapsed": false
   },
   "outputs": [
    {
     "data": {
      "text/html": [
       "<div>\n",
       "<table border=\"1\" class=\"dataframe\">\n",
       "  <thead>\n",
       "    <tr style=\"text-align: right;\">\n",
       "      <th></th>\n",
       "      <th>Destination</th>\n",
       "      <th>T</th>\n",
       "      <th>Year</th>\n",
       "    </tr>\n",
       "  </thead>\n",
       "  <tbody>\n",
       "    <tr>\n",
       "      <th>0</th>\n",
       "      <td>Lebanon</td>\n",
       "      <td>1200</td>\n",
       "      <td>1968</td>\n",
       "    </tr>\n",
       "    <tr>\n",
       "      <th>1</th>\n",
       "      <td>Lebanon</td>\n",
       "      <td>1200</td>\n",
       "      <td>1969</td>\n",
       "    </tr>\n",
       "    <tr>\n",
       "      <th>2</th>\n",
       "      <td>Lebanon</td>\n",
       "      <td>500</td>\n",
       "      <td>1979</td>\n",
       "    </tr>\n",
       "    <tr>\n",
       "      <th>3</th>\n",
       "      <td>Italy</td>\n",
       "      <td>2</td>\n",
       "      <td>1980</td>\n",
       "    </tr>\n",
       "    <tr>\n",
       "      <th>4</th>\n",
       "      <td>Lebanon</td>\n",
       "      <td>500</td>\n",
       "      <td>1980</td>\n",
       "    </tr>\n",
       "  </tbody>\n",
       "</table>\n",
       "</div>"
      ],
      "text/plain": [
       "  Destination     T  Year\n",
       "0     Lebanon  1200  1968\n",
       "1     Lebanon  1200  1969\n",
       "2     Lebanon   500  1979\n",
       "3       Italy     2  1980\n",
       "4     Lebanon   500  1980"
      ]
     },
     "execution_count": 8,
     "metadata": {},
     "output_type": "execute_result"
    }
   ],
   "source": [
    "d = set(rdata.Destination)\n",
    "y = set(rdata.Year)\n",
    "p = pd.MultiIndex.from_product([d,y], names=['destinations', 'year'])\n",
    "rdata.reindex(p)\n",
    "rdata.head(5)"
   ]
  },
  {
   "cell_type": "code",
   "execution_count": 48,
   "metadata": {
    "collapsed": false
   },
   "outputs": [
    {
     "data": {
      "text/html": [
       "<div>\n",
       "<table border=\"1\" class=\"dataframe\">\n",
       "  <thead>\n",
       "    <tr style=\"text-align: right;\">\n",
       "      <th></th>\n",
       "      <th>Destination</th>\n",
       "      <th>2011_pop</th>\n",
       "      <th>2012_pop</th>\n",
       "      <th>2013_pop</th>\n",
       "      <th>2014_pop</th>\n",
       "    </tr>\n",
       "  </thead>\n",
       "  <tbody>\n",
       "    <tr>\n",
       "      <th>0</th>\n",
       "      <td>Aruba</td>\n",
       "      <td>101932</td>\n",
       "      <td>102384</td>\n",
       "      <td>102911</td>\n",
       "      <td>103431</td>\n",
       "    </tr>\n",
       "    <tr>\n",
       "      <th>1</th>\n",
       "      <td>Andorra</td>\n",
       "      <td>77865</td>\n",
       "      <td>78360</td>\n",
       "      <td>79218</td>\n",
       "      <td>80153</td>\n",
       "    </tr>\n",
       "    <tr>\n",
       "      <th>2</th>\n",
       "      <td>Afghanistan</td>\n",
       "      <td>29105480</td>\n",
       "      <td>29824536</td>\n",
       "      <td>30551674</td>\n",
       "      <td>31280518</td>\n",
       "    </tr>\n",
       "    <tr>\n",
       "      <th>3</th>\n",
       "      <td>Angola</td>\n",
       "      <td>20180490</td>\n",
       "      <td>20820525</td>\n",
       "      <td>21471618</td>\n",
       "      <td>22137261</td>\n",
       "    </tr>\n",
       "    <tr>\n",
       "      <th>4</th>\n",
       "      <td>Albania</td>\n",
       "      <td>2904780</td>\n",
       "      <td>2900489</td>\n",
       "      <td>2897366</td>\n",
       "      <td>2894475</td>\n",
       "    </tr>\n",
       "  </tbody>\n",
       "</table>\n",
       "</div>"
      ],
      "text/plain": [
       "   Destination  2011_pop  2012_pop  2013_pop  2014_pop\n",
       "0        Aruba    101932    102384    102911    103431\n",
       "1      Andorra     77865     78360     79218     80153\n",
       "2  Afghanistan  29105480  29824536  30551674  31280518\n",
       "3       Angola  20180490  20820525  21471618  22137261\n",
       "4      Albania   2904780   2900489   2897366   2894475"
      ]
     },
     "execution_count": 48,
     "metadata": {},
     "output_type": "execute_result"
    }
   ],
   "source": [
    "pop = pd.read_csv('../data/demographics-wb.csv')\n",
    "pop = pop[['Country Name',  '2011', '2012', '2013','2014']]\n",
    "pop.columns = ['Destination', '2011_pop', '2012_pop', '2013_pop', '2014_pop']"
   ]
  },
  {
   "cell_type": "code",
   "execution_count": 5,
   "metadata": {
    "collapsed": false
   },
   "outputs": [
    {
     "data": {
      "text/html": [
       "<div>\n",
       "<table border=\"1\" class=\"dataframe\">\n",
       "  <thead>\n",
       "    <tr style=\"text-align: right;\">\n",
       "      <th></th>\n",
       "      <th>T</th>\n",
       "    </tr>\n",
       "    <tr>\n",
       "      <th>Destination</th>\n",
       "      <th></th>\n",
       "    </tr>\n",
       "  </thead>\n",
       "  <tbody>\n",
       "    <tr>\n",
       "      <th>Turkey</th>\n",
       "      <td>2393091</td>\n",
       "    </tr>\n",
       "    <tr>\n",
       "      <th>Lebanon</th>\n",
       "      <td>2134927</td>\n",
       "    </tr>\n",
       "    <tr>\n",
       "      <th>Jordan</th>\n",
       "      <td>829210</td>\n",
       "    </tr>\n",
       "    <tr>\n",
       "      <th>Iraq</th>\n",
       "      <td>528157</td>\n",
       "    </tr>\n",
       "    <tr>\n",
       "      <th>Egypt</th>\n",
       "      <td>283099</td>\n",
       "    </tr>\n",
       "    <tr>\n",
       "      <th>Germany</th>\n",
       "      <td>256993</td>\n",
       "    </tr>\n",
       "    <tr>\n",
       "      <th>Sweden</th>\n",
       "      <td>137136</td>\n",
       "    </tr>\n",
       "    <tr>\n",
       "      <th>Netherlands</th>\n",
       "      <td>51502</td>\n",
       "    </tr>\n",
       "    <tr>\n",
       "      <th>Libya</th>\n",
       "      <td>39428</td>\n",
       "    </tr>\n",
       "    <tr>\n",
       "      <th>United States of America</th>\n",
       "      <td>34247</td>\n",
       "    </tr>\n",
       "  </tbody>\n",
       "</table>\n",
       "</div>"
      ],
      "text/plain": [
       "                                T\n",
       "Destination                      \n",
       "Turkey                    2393091\n",
       "Lebanon                   2134927\n",
       "Jordan                     829210\n",
       "Iraq                       528157\n",
       "Egypt                      283099\n",
       "Germany                    256993\n",
       "Sweden                     137136\n",
       "Netherlands                 51502\n",
       "Libya                       39428\n",
       "United States of America    34247"
      ]
     },
     "execution_count": 5,
     "metadata": {},
     "output_type": "execute_result"
    }
   ],
   "source": [
    "# Find top10\n",
    "r = rdata\n",
    "r = r.drop(['Year'], 1)\n",
    "g = r.groupby('Destination').sum()\n",
    "top10 = g.sort('T', ascending=False).head(10)\n",
    "top10"
   ]
  },
  {
   "cell_type": "code",
   "execution_count": null,
   "metadata": {
    "collapsed": true
   },
   "outputs": [],
   "source": []
  },
  {
   "cell_type": "markdown",
   "metadata": {},
   "source": []
  },
  {
   "cell_type": "markdown",
   "metadata": {
    "collapsed": false
   },
   "source": [
    "r = rdata[rdata['Year'] > 2009]\n",
    "r = r.drop(['Year'], 1)\n",
    "g = r.groupby('Destination').sum()\n",
    "top10 = g.sort('T', ascending=False).head(10)\n",
    "top10"
   ]
  },
  {
   "cell_type": "code",
   "execution_count": 61,
   "metadata": {
    "collapsed": false
   },
   "outputs": [],
   "source": [
    "rd = rdata[rdata['Year'] > 2010]\n",
    "d_pivot = pd.pivot_table(rd, columns=['Destination', 'Year'], values=['T'])\n",
    "df = d_pivot.unstack()\n",
    "# to output:\n",
    "df.reset_index().to_json(orient='records', path_or_buf='../app/src/data/stats.json')"
   ]
  },
  {
   "cell_type": "code",
   "execution_count": 62,
   "metadata": {
    "collapsed": false
   },
   "outputs": [],
   "source": [
    "rfs = df.reset_index()\n",
    "rfs = rfs.merge(pop, on='Destination', how='left')\n",
    "rfs.to_json(orient='records', path_or_buf='../app/src/data/stats.json')"
   ]
  },
  {
   "cell_type": "code",
   "execution_count": 66,
   "metadata": {
    "collapsed": false
   },
   "outputs": [],
   "source": [
    "rfs.head(10)\n",
    "rfs['T'] = rfs[2011] + rfs[2012] + rfs[2013] + rfs[2014]\n",
    "\n",
    "rfs['rate_avg'] = rfs['T'] / rfs['2014_pop']\n",
    "rfs.sort('T', ascending=0).to_json(orient='records', path_or_buf='../app/src/data/stats.json')"
   ]
  },
  {
   "cell_type": "code",
   "execution_count": null,
   "metadata": {
    "collapsed": true
   },
   "outputs": [],
   "source": []
  }
 ],
 "metadata": {
  "kernelspec": {
   "display_name": "Python 2",
   "language": "python",
   "name": "python2"
  },
  "language_info": {
   "codemirror_mode": {
    "name": "ipython",
    "version": 2
   },
   "file_extension": ".py",
   "mimetype": "text/x-python",
   "name": "python",
   "nbconvert_exporter": "python",
   "pygments_lexer": "ipython2",
   "version": "2.7.10"
  }
 },
 "nbformat": 4,
 "nbformat_minor": 0
}
